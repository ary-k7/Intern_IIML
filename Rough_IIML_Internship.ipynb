{
 "cells": [
  {
   "cell_type": "code",
   "execution_count": 107,
   "metadata": {},
   "outputs": [
    {
     "data": {
      "text/html": [
       "<div>\n",
       "<style scoped>\n",
       "    .dataframe tbody tr th:only-of-type {\n",
       "        vertical-align: middle;\n",
       "    }\n",
       "\n",
       "    .dataframe tbody tr th {\n",
       "        vertical-align: top;\n",
       "    }\n",
       "\n",
       "    .dataframe thead th {\n",
       "        text-align: right;\n",
       "    }\n",
       "</style>\n",
       "<table border=\"1\" class=\"dataframe\">\n",
       "  <thead>\n",
       "    <tr style=\"text-align: right;\">\n",
       "      <th></th>\n",
       "      <th>Symbol</th>\n",
       "      <th>Expiry</th>\n",
       "      <th>Open</th>\n",
       "      <th>High</th>\n",
       "      <th>Low</th>\n",
       "      <th>Close</th>\n",
       "      <th>Last</th>\n",
       "      <th>Settle Price</th>\n",
       "      <th>Number of Contracts</th>\n",
       "      <th>Turnover</th>\n",
       "      <th>Open Interest</th>\n",
       "      <th>Change in OI</th>\n",
       "      <th>Underlying</th>\n",
       "    </tr>\n",
       "    <tr>\n",
       "      <th>Date</th>\n",
       "      <th></th>\n",
       "      <th></th>\n",
       "      <th></th>\n",
       "      <th></th>\n",
       "      <th></th>\n",
       "      <th></th>\n",
       "      <th></th>\n",
       "      <th></th>\n",
       "      <th></th>\n",
       "      <th></th>\n",
       "      <th></th>\n",
       "      <th></th>\n",
       "      <th></th>\n",
       "    </tr>\n",
       "  </thead>\n",
       "  <tbody>\n",
       "  </tbody>\n",
       "</table>\n",
       "</div>"
      ],
      "text/plain": [
       "Empty DataFrame\n",
       "Columns: [Symbol, Expiry, Open, High, Low, Close, Last, Settle Price, Number of Contracts, Turnover, Open Interest, Change in OI, Underlying]\n",
       "Index: []"
      ]
     },
     "execution_count": 107,
     "metadata": {},
     "output_type": "execute_result"
    }
   ],
   "source": [
    "import datetime, calendar\n",
    "\n",
    "def LastThInMonth(year, month):\n",
    "    # Create a datetime.date for the last day of the given month\n",
    "    daysInMonth = calendar.monthrange(year, month)[1]   # Returns (month, numberOfDaysInMonth)\n",
    "    dt = datetime.date(year, month, daysInMonth)\n",
    "\n",
    "    # Back up to the most recent Thursday\n",
    "    offset = 4 - dt.isoweekday()\n",
    "    if offset > 0: offset -= 7                          # Back up one week if necessary\n",
    "    dt += datetime.timedelta(offset)                    # dt is now date of last Th in month\n",
    "\n",
    "    # Throw an exception if dt is in the current month and occurred before today\n",
    "    now = datetime.date.today()                         # Get current date (local time, not utc)\n",
    "    if dt.year == now.year and dt.month == now.month and dt < now:\n",
    "        raise Exception('Oops - missed the last Thursday of this month')\n",
    "\n",
    "    return dt\n",
    "Last_Thurs=[]\n",
    "for year in range(2017,2021):\n",
    "    for month in range(1, 13): \n",
    "        Last_Thurs.append(LastThInMonth(year, month))\n",
    "Last_Thurs[0]= Last_Thurs[0]-datetime.timedelta(days=1)\n",
    "\n",
    "\n",
    "\n",
    "import pandas as pd\n",
    "from datetime import date\n",
    "from nsepy import get_history\n",
    "A = get_history(symbol='RELIANCE',\n",
    "                    start=date(2017,1,1), \n",
    "                    end=Last_Thurs[0],\n",
    "                    futures = True,\n",
    "                    expiry_date=Last_Thurs[0])\n",
    "for i,j in range(0,37):\n",
    "    B = get_history(symbol='RELIANCE',\n",
    "                    start=(Last_Thurs[i]+datetime.timedelta(days=1)), \n",
    "                    end=Last_Thurs[j],\n",
    "                    futures = True,\n",
    "                    expiry_date=Last_Thurs[j])\n",
    "    i=i+1\n",
    "    j=j+1\n",
    "ril_fut= pd.concat([A,B])\n",
    "A"
   ]
  },
  {
   "cell_type": "code",
   "execution_count": 5,
   "metadata": {},
   "outputs": [
    {
     "data": {
      "text/plain": [
       "SCRIPTS_JAN17    NIFTY\n",
       "Name: 0, dtype: object"
      ]
     },
     "execution_count": 5,
     "metadata": {},
     "output_type": "execute_result"
    }
   ],
   "source": [
    "script = pd.read_excel(r'C:\\Users\\Hp\\Desktop\\iiml.xlsx', sheet_name='Sheet1')\n",
    "script.loc[0]"
   ]
  },
  {
   "cell_type": "code",
   "execution_count": 7,
   "metadata": {},
   "outputs": [],
   "source": [
    "import pandas as pd\n",
    "from datetime import date\n",
    "from nsepy import get_history\n",
    "from pandas import DataFrame\n",
    "B=[]\n",
    "df = pd.read_excel(r'C:\\Users\\Hp\\Desktop\\iiml - Copy.xlsx', sheet_name='Sheet1')\n",
    "\n",
    "K=pd.DataFrame()\n",
    "for i in range (38,54):\n",
    "    A = get_history(symbol= (\"NIFTY\"),\n",
    "                    start=date(df.start[i].year, df.start[i].month, df.start[i].day), \n",
    "                    end=date(df.end[i].year, df.end[i].month, df.end[i].day),\n",
    "                    index = True,\n",
    "                    futures = True,\n",
    "                    expiry_date=date(df.expiry[i].year, df.expiry[i].month, df.expiry[i].day))\n",
    "    K=K.append(A)\n",
    "K.to_excel('iimlfinalNIFTYNEW1.xlsx')"
   ]
  },
  {
   "cell_type": "code",
   "execution_count": null,
   "metadata": {},
   "outputs": [],
   "source": []
  },
  {
   "cell_type": "code",
   "execution_count": null,
   "metadata": {},
   "outputs": [],
   "source": []
  },
  {
   "cell_type": "code",
   "execution_count": 9,
   "metadata": {},
   "outputs": [],
   "source": [
    "import pandas as pd\n",
    "from datetime import date\n",
    "from nsepy import get_history\n",
    "\n",
    "A = get_history(symbol='NIFTY',\n",
    "                    start=date(2020, 11, 26), \n",
    "                    end=date(2020, 11,26),\n",
    "                    index = True,\n",
    "                    futures = True,\n",
    "                    expiry_date=date(2020, 11, 26))\n",
    "A.to_excel('qweq.xlsx')"
   ]
  },
  {
   "cell_type": "code",
   "execution_count": 30,
   "metadata": {},
   "outputs": [
    {
     "data": {
      "text/plain": [
       "DATE    2017, 01, 25\n",
       "Name: 0, dtype: object"
      ]
     },
     "execution_count": 30,
     "metadata": {},
     "output_type": "execute_result"
    }
   ],
   "source": [
    "import datetime\n",
    "from datetime import date\n",
    "import pandas as pd\n",
    "df = pd.read_excel(r'C:\\Users\\Hp\\Desktop\\iiml.xlsx', sheet_name='Sheet1')\n",
    "end_dates = pd.DataFrame(df['DATE'])\n",
    "(df.loc[0])"
   ]
  },
  {
   "cell_type": "code",
   "execution_count": null,
   "metadata": {},
   "outputs": [],
   "source": []
  },
  {
   "cell_type": "code",
   "execution_count": null,
   "metadata": {},
   "outputs": [],
   "source": []
  },
  {
   "cell_type": "code",
   "execution_count": 23,
   "metadata": {},
   "outputs": [
    {
     "name": "stdout",
     "output_type": "stream",
     "text": [
      "25\n"
     ]
    }
   ],
   "source": [
    "import numpy as np\n",
    "import pandas as pd\n",
    "import datetime, calendar\n",
    "\n",
    "def LastThInMonth(year, month):\n",
    "    # Create a datetime.date for the last day of the given month\n",
    "    daysInMonth = calendar.monthrange(year, month)[1]   # Returns (month, numberOfDaysInMonth)\n",
    "    dt = datetime.date(year, month, daysInMonth)\n",
    "\n",
    "    # Back up to the most recent Thursday\n",
    "    offset = 4 - dt.isoweekday()\n",
    "    if offset > 0: offset -= 7                          # Back up one week if necessary\n",
    "    dt += datetime.timedelta(offset)                    # dt is now date of last Th in month\n",
    "\n",
    "    # Throw an exception if dt is in the current month and occurred before today\n",
    "    now = datetime.date.today()                         # Get current date (local time, not utc)\n",
    "    if dt.year == now.year and dt.month == now.month and dt < now:\n",
    "        raise Exception('Oops - missed the last Thursday of this month')\n",
    "\n",
    "    return dt\n",
    "last=np.array([], dtype= object)\n",
    "for year in range(2017,2021):\n",
    "    for month in range(1, 13):\n",
    "        last= np.append(last,(LastThInMonth(year, month)))\n",
    "print (last[0].day - 1)"
   ]
  },
  {
   "cell_type": "code",
   "execution_count": null,
   "metadata": {},
   "outputs": [],
   "source": []
  },
  {
   "cell_type": "code",
   "execution_count": 60,
   "metadata": {},
   "outputs": [
    {
     "name": "stdout",
     "output_type": "stream",
     "text": [
      "SCRIPTS_JAN17    ADANIENT\n",
      "Name: 1, dtype: object\n"
     ]
    }
   ],
   "source": [
    "import pandas as pd\n",
    "\n",
    "df = pd.read_excel(r'C:\\Users\\Hp\\Desktop\\iiml - Copy (2).xlsx', sheet_name='Sheet1')\n",
    "print(df.loc[1])"
   ]
  },
  {
   "cell_type": "code",
   "execution_count": null,
   "metadata": {},
   "outputs": [],
   "source": []
  },
  {
   "cell_type": "code",
   "execution_count": 27,
   "metadata": {},
   "outputs": [
    {
     "name": "stdout",
     "output_type": "stream",
     "text": [
      "               Symbol      Expiry      Open      High       Low     Close  \\\n",
      "Date                                                                        \n",
      "2017-01-02  BANKNIFTY  2017-01-25  18210.05  18261.20  17886.70  18034.30   \n",
      "2017-01-03  BANKNIFTY  2017-01-25  18050.50  18158.00  17855.50  18060.95   \n",
      "2017-01-04  BANKNIFTY  2017-01-25  18150.00  18150.00  17923.50  17941.85   \n",
      "2017-01-05  BANKNIFTY  2017-01-25  18050.00  18190.00  18019.10  18137.50   \n",
      "2017-01-06  BANKNIFTY  2017-01-25  18178.00  18365.50  18161.25  18308.00   \n",
      "2017-01-09  BANKNIFTY  2017-01-25  18343.00  18393.00  18265.00  18329.45   \n",
      "2017-01-10  BANKNIFTY  2017-01-25  18380.00  18458.00  18318.75  18430.70   \n",
      "2017-01-11  BANKNIFTY  2017-01-25  18525.00  18904.90  18520.00  18839.55   \n",
      "2017-01-12  BANKNIFTY  2017-01-25  18865.05  18974.80  18828.80  18901.30   \n",
      "2017-01-13  BANKNIFTY  2017-01-25  18955.00  18979.25  18801.75  18945.60   \n",
      "2017-01-16  BANKNIFTY  2017-01-25  18950.15  19168.15  18895.55  19138.50   \n",
      "2017-01-17  BANKNIFTY  2017-01-25  19132.20  19216.75  19025.55  19103.90   \n",
      "2017-01-18  BANKNIFTY  2017-01-25  19085.25  19297.40  19085.25  19199.75   \n",
      "2017-01-19  BANKNIFTY  2017-01-25  19163.10  19196.10  19074.00  19150.95   \n",
      "2017-01-20  BANKNIFTY  2017-01-25  19050.40  19100.00  18822.55  18861.70   \n",
      "2017-01-23  BANKNIFTY  2017-01-25  18799.95  18949.15  18742.15  18881.70   \n",
      "2017-01-24  BANKNIFTY  2017-01-25  18970.15  19102.00  18936.45  19052.40   \n",
      "2017-01-25  BANKNIFTY  2017-01-25  19124.65  19486.25  19118.20  19453.50   \n",
      "2017-01-27  BANKNIFTY  2017-02-23  19599.90  19874.80  19599.90  19793.50   \n",
      "2017-01-30  BANKNIFTY  2017-02-23  19761.55  19825.00  19633.00  19650.55   \n",
      "2017-01-31  BANKNIFTY  2017-02-23  19599.40  19710.00  19492.55  19588.45   \n",
      "2017-02-01  BANKNIFTY  2017-02-23  19550.00  20125.00  19510.00  20106.10   \n",
      "2017-02-02  BANKNIFTY  2017-02-23  20076.75  20208.40  19970.05  20117.05   \n",
      "2017-02-03  BANKNIFTY  2017-02-23  20073.45  20288.00  20057.00  20256.45   \n",
      "2017-02-06  BANKNIFTY  2017-02-23  20339.95  20504.65  20333.05  20423.35   \n",
      "2017-02-07  BANKNIFTY  2017-02-23  20398.15  20458.85  20330.55  20378.70   \n",
      "2017-02-08  BANKNIFTY  2017-02-23  20350.35  20455.00  20141.00  20360.70   \n",
      "2017-02-09  BANKNIFTY  2017-02-23  20455.00  20470.00  20055.55  20201.30   \n",
      "2017-02-10  BANKNIFTY  2017-02-23  20289.90  20360.00  20216.00  20273.00   \n",
      "2017-02-13  BANKNIFTY  2017-02-23  20310.00  20358.90  20131.25  20285.50   \n",
      "...               ...         ...       ...       ...       ...       ...   \n",
      "2021-05-14  BANKNIFTY  2021-05-27  32500.05  32698.65  32184.00  32265.20   \n",
      "2021-05-17  BANKNIFTY  2021-05-27  32452.00  33605.15  32366.05  33548.85   \n",
      "2021-05-18  BANKNIFTY  2021-05-27  33944.75  34244.00  33801.05  34045.20   \n",
      "2021-05-19  BANKNIFTY  2021-05-27  33810.00  34030.00  33655.00  33800.75   \n",
      "2021-05-20  BANKNIFTY  2021-05-27  33779.00  33913.75  33387.00  33445.70   \n",
      "2021-05-21  BANKNIFTY  2021-05-27  33600.15  34855.00  33589.90  34763.15   \n",
      "2021-05-24  BANKNIFTY  2021-05-27  34900.00  35348.00  34556.00  34998.10   \n",
      "2021-05-25  BANKNIFTY  2021-05-27  35149.00  35193.95  34434.00  34758.05   \n",
      "2021-05-26  BANKNIFTY  2021-05-27  34810.00  34989.90  34502.15  34723.95   \n",
      "2021-05-27  BANKNIFTY  2021-05-27  34605.60  35110.30  34522.05  35053.50   \n",
      "2021-05-28  BANKNIFTY  2021-06-24  35499.00  35670.00  35150.00  35321.80   \n",
      "2021-05-31  BANKNIFTY  2021-06-24  35280.00  35650.00  35063.15  35602.90   \n",
      "2021-06-01  BANKNIFTY  2021-06-24  35677.95  35797.45  35313.95  35454.10   \n",
      "2021-06-02  BANKNIFTY  2021-06-24  35380.00  35560.00  35180.00  35524.25   \n",
      "2021-06-03  BANKNIFTY  2021-06-24  35662.20  35890.00  35553.00  35781.95   \n",
      "2021-06-04  BANKNIFTY  2021-06-24  35770.00  35960.80  35350.00  35508.50   \n",
      "2021-06-07  BANKNIFTY  2021-06-24  35540.05  35740.00  35494.00  35622.20   \n",
      "2021-06-08  BANKNIFTY  2021-06-24  35536.80  35569.80  35123.00  35265.30   \n",
      "2021-06-09  BANKNIFTY  2021-06-24  35281.00  35547.60  34757.65  34929.35   \n",
      "2021-06-10  BANKNIFTY  2021-06-24  34980.00  35320.00  34830.00  35266.35   \n",
      "2021-06-11  BANKNIFTY  2021-06-24  35420.00  35474.95  34977.70  35169.35   \n",
      "2021-06-14  BANKNIFTY  2021-06-24  35024.00  35130.00  34455.00  35065.10   \n",
      "2021-06-15  BANKNIFTY  2021-06-24  35035.00  35425.95  34960.60  35330.40   \n",
      "2021-06-16  BANKNIFTY  2021-06-24  35233.00  35463.90  35005.00  35101.35   \n",
      "2021-06-17  BANKNIFTY  2021-06-24  34699.95  34970.05  34486.40  34682.20   \n",
      "2021-06-18  BANKNIFTY  2021-06-24  34800.00  34837.85  33937.00  34596.75   \n",
      "2021-06-21  BANKNIFTY  2021-06-24  34388.00  34949.00  33955.10  34911.10   \n",
      "2021-06-22  BANKNIFTY  2021-06-24  35110.00  35286.75  34719.10  34775.80   \n",
      "2021-06-23  BANKNIFTY  2021-06-24  34949.70  34972.00  34555.10  34611.90   \n",
      "2021-06-24  BANKNIFTY  2021-06-24  34699.25  34970.00  34579.30  34819.95   \n",
      "\n",
      "                Last  Settle Price Number of Contracts      Turnover  \\\n",
      "Date                                                                   \n",
      "2017-01-02  18031.00      18034.30               90862  6.553176e+10   \n",
      "2017-01-03  18071.15      18060.95              102583  7.403211e+10   \n",
      "2017-01-04  17951.65      17941.85               77415  5.576493e+10   \n",
      "2017-01-05  18144.00      18137.50               88954  6.445798e+10   \n",
      "2017-01-06  18317.05      18308.00               76035  5.565324e+10   \n",
      "2017-01-09  18320.75      18329.45               43860  3.217777e+10   \n",
      "2017-01-10  18457.45      18430.70               52519  3.863152e+10   \n",
      "2017-01-11  18829.50      18839.55              117645  8.814532e+10   \n",
      "2017-01-12  18899.05      18901.30               76668  5.795296e+10   \n",
      "2017-01-13  18969.95      18945.60               64798  4.898749e+10   \n",
      "2017-01-16  19145.15      19138.50               75404  5.749512e+10   \n",
      "2017-01-17  19076.90      19103.90               71857  5.496918e+10   \n",
      "2017-01-18  19198.10      19199.75               73019  5.612695e+10   \n",
      "2017-01-19  19143.05      19150.95               60006  4.593976e+10   \n",
      "2017-01-20  18857.60      18861.70               98862  7.493591e+10   \n",
      "2017-01-23  18917.00      18881.70               85669  6.458883e+10   \n",
      "2017-01-24  19065.00      19052.40               74195  5.640396e+10   \n",
      "2017-01-25  19475.50      19473.20               91561  7.062824e+10   \n",
      "2017-01-27  19804.00      19793.50               83147  6.571081e+10   \n",
      "2017-01-30  19641.95      19650.55               58970  4.649125e+10   \n",
      "2017-01-31  19590.00      19588.45               71261  5.582362e+10   \n",
      "2017-02-01  20117.95      20106.10              154057  1.221867e+11   \n",
      "2017-02-02  20059.95      20117.05              105137  8.450947e+10   \n",
      "2017-02-03  20260.15      20256.45               75424  6.095442e+10   \n",
      "2017-02-06  20427.00      20423.35               70751  5.784932e+10   \n",
      "2017-02-07  20375.20      20378.70               60818  4.960112e+10   \n",
      "2017-02-08  20396.15      20360.70              110930  9.007071e+10   \n",
      "2017-02-09  20225.00      20201.30              132804  1.074031e+11   \n",
      "2017-02-10  20285.00      20273.00               66602  5.408038e+10   \n",
      "2017-02-13  20296.20      20285.50               71107  5.760495e+10   \n",
      "...              ...           ...                 ...           ...   \n",
      "2021-05-14  32202.90      32265.20              150095  1.215800e+11   \n",
      "2021-05-17  33580.00      33548.85              213054  1.762378e+11   \n",
      "2021-05-18  34086.35      34045.20              157174  1.337760e+11   \n",
      "2021-05-19  33815.20      33800.75              142282  1.203136e+11   \n",
      "2021-05-20  33490.00      33445.70              117986  9.924340e+10   \n",
      "2021-05-21  34850.00      34763.15              206447  1.767977e+11   \n",
      "2021-05-24  34893.20      34998.10              174835  1.527392e+11   \n",
      "2021-05-25  34810.00      34758.05              159135  1.381761e+11   \n",
      "2021-05-26  34699.90      34723.95              150526  1.309200e+11   \n",
      "2021-05-27  35095.00      35095.05              136108  1.184548e+11   \n",
      "2021-05-28  35394.05      35321.80              151658  1.340811e+11   \n",
      "2021-05-31  35578.25      35602.90              141916  1.257088e+11   \n",
      "2021-06-01  35470.00      35454.10              145631  1.292728e+11   \n",
      "2021-06-02  35540.00      35524.25              113559  1.003669e+11   \n",
      "2021-06-03  35775.00      35781.95              121729  1.086930e+11   \n",
      "2021-06-04  35535.00      35508.50              151203  1.346160e+11   \n",
      "2021-06-07  35598.05      35622.20               92848  8.270568e+10   \n",
      "2021-06-08  35279.00      35265.30              127022  1.120441e+11   \n",
      "2021-06-09  34935.00      34929.35              193763  1.703973e+11   \n",
      "2021-06-10  35300.00      35266.35              123151  1.080081e+11   \n",
      "2021-06-11  35164.00      35169.35              104004  9.154350e+10   \n",
      "2021-06-14  35049.85      35065.10              134201  1.169043e+11   \n",
      "2021-06-15  35296.05      35330.40              102335  9.028766e+10   \n",
      "2021-06-16  35098.60      35101.35              113379  9.978516e+10   \n",
      "2021-06-17  34590.00      34682.20              135648  1.178096e+11   \n",
      "2021-06-18  34714.00      34596.75              173478  1.491150e+11   \n",
      "2021-06-21  34944.40      34911.10              154592  1.333330e+11   \n",
      "2021-06-22  34758.70      34775.80              149285  1.307970e+11   \n",
      "2021-06-23  34610.00      34611.90              128970  1.120647e+11   \n",
      "2021-06-24  34825.00      34827.00              123271  1.072745e+11   \n",
      "\n",
      "           Open Interest Change in OI  Underlying  \n",
      "Date                                               \n",
      "2017-01-02       2269880       234000    17969.60  \n",
      "2017-01-03       2061640      -208240    18035.60  \n",
      "2017-01-04       2323560       261920    17891.00  \n",
      "2017-01-05       2084520      -239040    18115.95  \n",
      "2017-01-06       1914920      -169600    18264.00  \n",
      "2017-01-09       1907720        -7200    18286.65  \n",
      "2017-01-10       1981200        73480    18409.60  \n",
      "2017-01-11       2188480       207280    18830.00  \n",
      "2017-01-12       2251560        63080    18873.95  \n",
      "2017-01-13       2459600       208040    18912.10  \n",
      "2017-01-16       2637040       177440    19096.45  \n",
      "2017-01-17       2624680       -12360    19067.05  \n",
      "2017-01-18       2686480        61800    19164.50  \n",
      "2017-01-19       2639040       -47440    19124.25  \n",
      "2017-01-20       2337000      -302040    18820.80  \n",
      "2017-01-23       1779480      -557520    18842.70  \n",
      "2017-01-24       1641240      -138240    19023.50  \n",
      "2017-01-25       1290320      -350920    19473.20  \n",
      "2017-01-27       2152240       224960    19708.30  \n",
      "2017-01-30       2076640       -75600    19585.25  \n",
      "2017-01-31       1961080      -115560    19515.15  \n",
      "2017-02-01       2446800       485720    20020.60  \n",
      "2017-02-02       2505800        59000    20070.30  \n",
      "2017-02-03       2766360       260560    20196.80  \n",
      "2017-02-06       2842840        76480    20371.60  \n",
      "2017-02-07       2835520        -7320    20327.25  \n",
      "2017-02-08       2907240        71720    20245.40  \n",
      "2017-02-09       2693160      -214080    20151.15  \n",
      "2017-02-10       2742080        48920    20213.90  \n",
      "2017-02-13       2831320        89240    20251.80  \n",
      "...                  ...          ...         ...  \n",
      "2021-05-14       1487725       131700         NaN  \n",
      "2021-05-17       1731750       244025         NaN  \n",
      "2021-05-18       1641175       -90575         NaN  \n",
      "2021-05-19       1587300       -53875         NaN  \n",
      "2021-05-20       1414850      -172450         NaN  \n",
      "2021-05-21       1686275       271425         NaN  \n",
      "2021-05-24       1469925      -216350         NaN  \n",
      "2021-05-25       1334625      -135300    34662.00  \n",
      "2021-05-26        974725      -359900    34684.20  \n",
      "2021-05-27        421825      -552900    35095.05  \n",
      "2021-05-28       1745000        27775    35141.45  \n",
      "2021-05-31       1723450       -21550         NaN  \n",
      "2021-06-01       1731125         7675         NaN  \n",
      "2021-06-02       1700025       -31100         NaN  \n",
      "2021-06-03       1690250        -9775         NaN  \n",
      "2021-06-04       1810300       120050         NaN  \n",
      "2021-06-07       1754875       -55425         NaN  \n",
      "2021-06-08       1773525        18650         NaN  \n",
      "2021-06-09       1743550       -29975         NaN  \n",
      "2021-06-10       1638025      -105525         NaN  \n",
      "2021-06-11       1677425        39400         NaN  \n",
      "2021-06-14       1519975      -156850         NaN  \n",
      "2021-06-15       1488475       -31500         NaN  \n",
      "2021-06-16       1499825        11350    35003.50  \n",
      "2021-06-17       1485400       -14425         NaN  \n",
      "2021-06-18       1430825       -54575    34558.00  \n",
      "2021-06-21       1349725       -81100         NaN  \n",
      "2021-06-22       1079325      -270400         NaN  \n",
      "2021-06-23        877850      -201475    34574.00  \n",
      "2021-06-24        365950      -511900    34827.00  \n",
      "\n",
      "[1086 rows x 13 columns]\n"
     ]
    }
   ],
   "source": [
    "import pandas as pd\n",
    "from datetime import date\n",
    "from nsepy import get_history\n",
    "\n",
    "df = pd.read_excel(r'C:\\Users\\Hp\\Desktop\\iiml - Copy.xlsx', sheet_name='Sheet1')\n",
    "K=pd.DataFrame()\n",
    "\n",
    "for i in range (0,54):\n",
    "    A = get_history(symbol=('BANKNIFTY'),\n",
    "                    start=date(df.start[i].year, df.start[i].month, df.start[i].day), \n",
    "                    end=date(df.end[i].year, df.end[i].month, df.end[i].day),\n",
    "                    index = True,\n",
    "                    futures = True,\n",
    "                    expiry_date=date(df.expiry[i].year, df.expiry[i].month, df.expiry[i].day))\n",
    "    K=K.append(A)\n",
    "\n",
    "print(K) \n",
    "K.to_excel('bnifty1.xlsx')"
   ]
  },
  {
   "cell_type": "code",
   "execution_count": null,
   "metadata": {},
   "outputs": [],
   "source": []
  },
  {
   "cell_type": "code",
   "execution_count": null,
   "metadata": {},
   "outputs": [],
   "source": []
  },
  {
   "cell_type": "code",
   "execution_count": 26,
   "metadata": {},
   "outputs": [
    {
     "data": {
      "text/plain": [
       "<matplotlib.axes._subplots.AxesSubplot at 0x2c91cc5a128>"
      ]
     },
     "execution_count": 26,
     "metadata": {},
     "output_type": "execute_result"
    },
    {
     "data": {
      "image/png": "[encoded data removed]",
      "text/plain": [
       "<Figure size 1440x1440 with 1 Axes>"
      ]
     },
     "metadata": {
      "needs_background": "light"
     },
     "output_type": "display_data"
    }
   ],
   "source": [
    "import pandas as pd\n",
    "from datetime import date\n",
    "from nsepy import get_history\n",
    "from pandas import DataFrame\n",
    "import matplotlib as matplot\n",
    "\n",
    "bnifty_opt1 = get_history(symbol=\"BANKNIFTY\",\n",
    "                        start=date(2021,5,30),\n",
    "                        end=date(2021,7,7),\n",
    "                        index=True,\n",
    "                        option_type='PE',\n",
    "                        strike_price=35000,\n",
    "                        expiry_date=date(2021,7,29))\n",
    "bnifty_opt2 = get_history(symbol=\"BANKNIFTY\",\n",
    "                        start=date(2021,5,30),\n",
    "                        end=date(2021,7,7),\n",
    "                        index=True,\n",
    "                        option_type='CE',\n",
    "                        strike_price=35000,\n",
    "                        expiry_date=date(2021,7,29))\n",
    "\n",
    "(bnifty_opt1.loc[:,\"Close\"]+bnifty_opt2.loc[:,\"Close\"]).plot(figsize=(20, 20))"
   ]
  },
  {
   "cell_type": "code",
   "execution_count": 33,
   "metadata": {},
   "outputs": [],
   "source": [
    "import pandas as pd\n",
    "from datetime import date\n",
    "from nsepy import get_history\n",
    "from pandas import DataFrame\n",
    "\n",
    "K=pd.DataFrame()\n",
    "\n",
    "df = pd.read_excel(r'C:\\Users\\Hp\\Desktop\\MAIN_BANKNIFTY_IIML.xlsx', sheet_name='Sheet3')\n",
    "\n",
    "for i in range(0,53):\n",
    "    bn = get_history(symbol=\"BANKNIFTY\",\n",
    "                        start=date(df.Date[i].year, df.Date[i].month, df.Date[i].day),\n",
    "                        end=date(df.Date[i].year, df.Date[i].month, df.Date[i].day),\n",
    "                        index=True,\n",
    "                        option_type='PE',\n",
    "                        strike_price=(df.ATM[i].item()),\n",
    "                        expiry_date=date(df.Expiry[i].year, df.Expiry[i].month, df.Expiry[i].day))\n",
    "    K=K.append(bn)\n",
    "\n",
    "K.to_excel('bniftyput1.xlsx')"
   ]
  },
  {
   "cell_type": "code",
   "execution_count": null,
   "metadata": {},
   "outputs": [],
   "source": []
  },
  {
   "cell_type": "code",
   "execution_count": 2,
   "metadata": {},
   "outputs": [],
   "source": [
    "from nsepy import get_history\n",
    "from datetime import date\n",
    "data = get_history(symbol=\"EDELWEISS\", start=date(2010,1,1), end=date(2021,6,30))\n",
    "\n",
    "data.to_excel('EdelweissHistory.xlsx')                         \n",
    "    "
   ]
  },
  {
   "cell_type": "code",
   "execution_count": 24,
   "metadata": {},
   "outputs": [
    {
     "data": {
      "text/plain": [
       "2020"
      ]
     },
     "execution_count": 24,
     "metadata": {},
     "output_type": "execute_result"
    }
   ],
   "source": [
    "import numpy as np\n",
    "df = pd.read_excel(r'C:\\Users\\Hp\\Desktop\\DeltaD.xlsx', sheet_name='Sheet1')\n",
    "df.Expiry[1].year"
   ]
  },
  {
   "cell_type": "code",
   "execution_count": 79,
   "metadata": {},
   "outputs": [],
   "source": [
    "import pandas as pd\n",
    "from datetime import date\n",
    "from nsepy import get_history\n",
    "from pandas import DataFrame\n",
    "data = get_history(symbol=\"BANKNIFTY\", start=date(2020,4,30), end=date(2020,4,30), index= True)\n",
    "data\n",
    "K=pd.DataFrame()\n",
    "J=pd.DataFrame()\n",
    "for i in range (0,15):\n",
    "    val=np.int64(df.Watm[i])\n",
    "    Bn = get_history(symbol=\"BANKNIFTY\",\n",
    "                        start=date(df.Wed[i].year, df.Wed[i].month, df.Wed[i].day),\n",
    "                        end=date(df.Wed[i].year, df.Wed[i].month, df.Wed[i].day),\n",
    "                        index=True,\n",
    "                        option_type='CE',\n",
    "                        strike_price =(val.item()),\n",
    "                        expiry_date=date(df.Expiry[i].year, df.Expiry[i].month, df.Expiry[i].day))\n",
    "    An = get_history(symbol=\"BANKNIFTY\",\n",
    "                        start=date(df.Wed[i].year, df.Wed[i].month, df.Wed[i].day),\n",
    "                        end=date(df.Wed[i].year, df.Wed[i].month, df.Wed[i].day),\n",
    "                        index=True,\n",
    "                        option_type='PE',\n",
    "                        strike_price =(val.item()),\n",
    "                        expiry_date=date(df.Expiry[i].year, df.Expiry[i].month, df.Expiry[i].day))\n",
    "    K=K.append(Bn)\n",
    "K.to_excel('DeltaD4.xlsx')    "
   ]
  },
  {
   "cell_type": "code",
   "execution_count": null,
   "metadata": {},
   "outputs": [],
   "source": [
    "K.to_excel('DeltaD1.xlsx')"
   ]
  },
  {
   "cell_type": "code",
   "execution_count": null,
   "metadata": {},
   "outputs": [],
   "source": []
  },
  {
   "cell_type": "code",
   "execution_count": 74,
   "metadata": {},
   "outputs": [
    {
     "data": {
      "text/plain": [
       "33900"
      ]
     },
     "execution_count": 74,
     "metadata": {},
     "output_type": "execute_result"
    }
   ],
   "source": [
    "val=np.int64(df.Watm[12])\n",
    "val"
   ]
  },
  {
   "cell_type": "code",
   "execution_count": null,
   "metadata": {},
   "outputs": [],
   "source": [
    "stock_opt = get_history(symbol=\"NIFTY\",\n",
    "                        start=date(2020,1,31),\n",
    "                        end=date(2020,2,27),\n",
    "                        option_type=\"CE\",\n",
    "                        \n",
    "                        strike_price=1400,\n",
    "                        expiry_date=date(2020,2,27))\n",
    "(stock_opt)"
   ]
  },
  {
   "cell_type": "code",
   "execution_count": null,
   "metadata": {},
   "outputs": [],
   "source": [
    "import pandas as pd\n",
    "from datetime import date\n",
    "from nsepy import get_history\n",
    "from pandas import DataFrame\n",
    "dt = pd.read_excel(r'C:\\Users\\Hp\\Desktop\\IITB general\\IIML_Internship\\Data.xlsx', sheet_name='Sheet1')\n",
    "K=pd.DataFrame()\n",
    "for i in range(0,52):\n",
    "    nifty_opt = get_history(symbol=\"NIFTY\",\n",
    "                        start=date(dt.Date[i].year, dt.Date[i].month, dt.Date[i].day),\n",
    "                        end=date(dt.Date[i].year, dt.Date[i].month, dt.Date[i].day),\n",
    "                        index=True,\n",
    "                        option_type=\"PE\",\n",
    "                        strike_price=(dt.ATM[i].item()),\n",
    "                        expiry_date=date(dt.Expiry[i].year, dt.Expiry[i].month, dt.Expiry[i].day))\n",
    "    K= K.append(nifty_opt)\n",
    "K.to_excel('PutATM.xlsx')"
   ]
  },
  {
   "cell_type": "code",
   "execution_count": 12,
   "metadata": {},
   "outputs": [
    {
     "data": {
      "text/plain": [
       "int"
      ]
     },
     "execution_count": 12,
     "metadata": {},
     "output_type": "execute_result"
    }
   ],
   "source": [
    "import pandas as pd\n",
    "import numpy as np\n",
    "dt = pd.read_excel(r'C:\\Users\\Hp\\Desktop\\IITB general\\IIML_Internship\\Data.xlsx', sheet_name='Sheet1')\n",
    "k=dt.ATM[1]\n",
    "pyval = k.item()\n",
    "type(dt.ATM[1].item())"
   ]
  },
  {
   "cell_type": "code",
   "execution_count": null,
   "metadata": {},
   "outputs": [],
   "source": []
  },
  {
   "cell_type": "code",
   "execution_count": 1,
   "metadata": {},
   "outputs": [
    {
     "ename": "SystemExit",
     "evalue": "usage: ipykernel_launcher.py [global_opts] cmd1 [cmd1_opts] [cmd2 [cmd2_opts] ...]\n   or: ipykernel_launcher.py --help [cmd1 cmd2 ...]\n   or: ipykernel_launcher.py --help-commands\n   or: ipykernel_launcher.py cmd --help\n\nerror: option -f not recognized",
     "output_type": "error",
     "traceback": [
      "An exception has occurred, use %tb to see the full traceback.\n",
      "\u001b[1;31mSystemExit\u001b[0m\u001b[1;31m:\u001b[0m usage: ipykernel_launcher.py [global_opts] cmd1 [cmd1_opts] [cmd2 [cmd2_opts] ...]\n   or: ipykernel_launcher.py --help [cmd1 cmd2 ...]\n   or: ipykernel_launcher.py --help-commands\n   or: ipykernel_launcher.py cmd --help\n\nerror: option -f not recognized\n"
     ]
    },
    {
     "name": "stderr",
     "output_type": "stream",
     "text": [
      "C:\\Users\\Hp\\Anaconda3\\lib\\site-packages\\IPython\\core\\interactiveshell.py:3333: UserWarning: To exit: use 'exit', 'quit', or Ctrl-D.\n",
      "  warn(\"To exit: use 'exit', 'quit', or Ctrl-D.\", stacklevel=1)\n"
     ]
    }
   ],
   "source": [
    "from setuptools import setup, find_packages\n",
    "\n",
    "\n",
    "setup(\n",
    "    name='py_vollib',\n",
    "    version='1.0.2',\n",
    "    description='',\n",
    "    url='http://vollib.org',\n",
    "    maintainer='vollib',\n",
    "    maintainer_email='vollib@gammoncap.com',\n",
    "    license='MIT',\n",
    "    install_requires=[\n",
    "        'py_lets_be_rational',\n",
    "        'simplejson',\n",
    "        'numpy',\n",
    "        'pandas',\n",
    "        'scipy'\n",
    "    ],\n",
    "    packages=find_packages()\n",
    ")"
   ]
  },
  {
   "cell_type": "code",
   "execution_count": 2,
   "metadata": {},
   "outputs": [
    {
     "name": "stdout",
     "output_type": "stream",
     "text": [
      "Collecting py_vollib\n",
      "  Downloading https://files.pythonhosted.org/packages/b0/3c/26bd8cbaab3bd004a44157675fa8fe135f95fd4c62898c60c1670c339ba7/py_vollib-1.0.1.tar.gz\n",
      "Collecting py_lets_be_rational (from py_vollib)\n",
      "  Downloading https://files.pythonhosted.org/packages/58/bf/b292f35a4a2f0c02f4926442bd04d24c2a509749fb5e8e52190ac7ae3731/py_lets_be_rational-1.0.1.tar.gz\n",
      "Collecting simplejson (from py_vollib)\n",
      "  Downloading https://files.pythonhosted.org/packages/2b/de/3b5507608bd7b101fe86e579339840fb8bdc32e58d42842f9b26e41d1f18/simplejson-3.17.3-cp37-cp37m-win_amd64.whl (75kB)\n",
      "Requirement already satisfied: numpy in c:\\users\\hp\\anaconda3\\lib\\site-packages (from py_vollib) (1.16.4)\n",
      "Requirement already satisfied: pandas in c:\\users\\hp\\anaconda3\\lib\\site-packages (from py_vollib) (0.24.2)\n",
      "Requirement already satisfied: scipy in c:\\users\\hp\\anaconda3\\lib\\site-packages (from py_vollib) (1.2.1)\n",
      "Requirement already satisfied: python-dateutil>=2.5.0 in c:\\users\\hp\\anaconda3\\lib\\site-packages (from pandas->py_vollib) (2.8.0)\n",
      "Requirement already satisfied: pytz>=2011k in c:\\users\\hp\\anaconda3\\lib\\site-packages (from pandas->py_vollib) (2019.1)\n",
      "Requirement already satisfied: six>=1.5 in c:\\users\\hp\\anaconda3\\lib\\site-packages (from python-dateutil>=2.5.0->pandas->py_vollib) (1.12.0)\n",
      "Building wheels for collected packages: py-vollib, py-lets-be-rational\n",
      "  Building wheel for py-vollib (setup.py): started\n",
      "  Building wheel for py-vollib (setup.py): finished with status 'done'\n",
      "  Stored in directory: C:\\Users\\Hp\\AppData\\Local\\pip\\Cache\\wheels\\31\\7f\\5d\\abd43b8427abf03acc59e688fb8e411b8108a937398966894f\n",
      "  Building wheel for py-lets-be-rational (setup.py): started\n",
      "  Building wheel for py-lets-be-rational (setup.py): finished with status 'done'\n",
      "  Stored in directory: C:\\Users\\Hp\\AppData\\Local\\pip\\Cache\\wheels\\b5\\47\\7d\\db68726417a2ca3ed6bdc904a1376e26774fad9ea72e0cc159\n",
      "Successfully built py-vollib py-lets-be-rational\n",
      "Installing collected packages: py-lets-be-rational, simplejson, py-vollib\n",
      "Successfully installed py-lets-be-rational-1.0.1 py-vollib-1.0.1 simplejson-3.17.3\n",
      "Note: you may need to restart the kernel to use updated packages.\n"
     ]
    }
   ],
   "source": [
    "pip install py_vollib"
   ]
  },
  {
   "cell_type": "code",
   "execution_count": null,
   "metadata": {},
   "outputs": [],
   "source": []
  },
  {
   "cell_type": "code",
   "execution_count": 22,
   "metadata": {},
   "outputs": [
    {
     "ename": "NameError",
     "evalue": "name 'price' is not defined",
     "output_type": "error",
     "traceback": [
      "\u001b[1;31m---------------------------------------------------------------------------\u001b[0m",
      "\u001b[1;31mNameError\u001b[0m                                 Traceback (most recent call last)",
      "\u001b[1;32m<ipython-input-22-910117ee9c44>\u001b[0m in \u001b[0;36m<module>\u001b[1;34m\u001b[0m\n\u001b[0;32m     34\u001b[0m     \u001b[0mexpected_iv\u001b[0m \u001b[1;33m=\u001b[0m \u001b[1;36m0.2\u001b[0m\u001b[1;33m\u001b[0m\u001b[1;33m\u001b[0m\u001b[0m\n\u001b[0;32m     35\u001b[0m \u001b[1;33m\u001b[0m\u001b[0m\n\u001b[1;32m---> 36\u001b[1;33m \u001b[0mtype\u001b[0m\u001b[1;33m(\u001b[0m\u001b[0mprice\u001b[0m\u001b[1;33m)\u001b[0m\u001b[1;33m\u001b[0m\u001b[1;33m\u001b[0m\u001b[0m\n\u001b[0m",
      "\u001b[1;31mNameError\u001b[0m: name 'price' is not defined"
     ]
    }
   ],
   "source": [
    "from py_lets_be_rational import implied_volatility_from_a_transformed_rational_guess as iv\n",
    "import numpy\n",
    "\n",
    "# Local application/library specific imports\n",
    "from py_vollib.black_scholes import black_scholes\n",
    "from py_vollib.helpers import binary_flag\n",
    "from py_vollib.helpers import forward_price\n",
    "from py_vollib.helpers.constants import FLOAT_MAX, MINUS_FLOAT_MAX\n",
    "from py_vollib.helpers.exceptions import PriceIsAboveMaximum, PriceIsBelowIntrinsic\n",
    "\n",
    "\n",
    "# -----------------------------------------------------------------------------\n",
    "# FUNCTIONS\n",
    "\n",
    "def black_scholes(flag, S, K, t, r, sigma):\n",
    "    S = 100\n",
    "    K = 100\n",
    "    sigma = .2\n",
    "    r = .01\n",
    "    flag = 'c'\n",
    "    t = .5\n",
    "    price = black_scholes(flag, S, K, t, r, sigma)\n",
    "    \n",
    "def implied_volatility(price, S, K, t, r, flag):\n",
    "    \n",
    "    S = 100\n",
    "    K = 100\n",
    "    sigma = .2\n",
    "    r = .01\n",
    "    flag = 'c'\n",
    "    t = .5\n",
    "    iv = implied_volatility(price, S, K, t, r, flag)\n",
    "    expected_price = 5.87602423383\n",
    "    expected_iv = 0.2\n",
    "\n",
    "type(price)"
   ]
  },
  {
   "cell_type": "code",
   "execution_count": null,
   "metadata": {},
   "outputs": [],
   "source": []
  },
  {
   "cell_type": "code",
   "execution_count": null,
   "metadata": {},
   "outputs": [],
   "source": []
  },
  {
   "cell_type": "code",
   "execution_count": null,
   "metadata": {},
   "outputs": [],
   "source": []
  },
  {
   "cell_type": "code",
   "execution_count": null,
   "metadata": {},
   "outputs": [],
   "source": []
  },
  {
   "cell_type": "code",
   "execution_count": null,
   "metadata": {},
   "outputs": [],
   "source": []
  },
  {
   "cell_type": "code",
   "execution_count": null,
   "metadata": {},
   "outputs": [],
   "source": []
  },
  {
   "cell_type": "code",
   "execution_count": null,
   "metadata": {},
   "outputs": [],
   "source": []
  },
  {
   "cell_type": "code",
   "execution_count": null,
   "metadata": {},
   "outputs": [],
   "source": []
  },
  {
   "cell_type": "code",
   "execution_count": null,
   "metadata": {},
   "outputs": [],
   "source": []
  }
 ],
 "metadata": {
  "kernelspec": {
   "display_name": "Python 3",
   "language": "python",
   "name": "python3"
  },
  "language_info": {
   "codemirror_mode": {
    "name": "ipython",
    "version": 3
   },
   "file_extension": ".py",
   "mimetype": "text/x-python",
   "name": "python",
   "nbconvert_exporter": "python",
   "pygments_lexer": "ipython3",
   "version": "3.7.3"
  }
 },
 "nbformat": 4,
 "nbformat_minor": 2
}
